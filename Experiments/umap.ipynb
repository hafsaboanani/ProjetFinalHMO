{
 "cells": [
  {
   "cell_type": "code",
   "execution_count": 14,
   "id": "c9eaaaa3",
   "metadata": {},
   "outputs": [],
   "source": [
    "from sklearn.datasets import fetch_20newsgroups\n",
    "from sklearn.metrics.cluster import normalized_mutual_info_score, adjusted_rand_score\n",
    "from sentence_transformers import SentenceTransformer\n",
    "import numpy as np\n",
    "\n",
    "'''\n",
    "Variables: \n",
    "---------\n",
    "\n",
    "corpus : list of documents\n",
    "embeddings : documents embeddings of size NxM (N : number of documents, M : embedding dimension) \n",
    "red_emd : reduced embeddings matrix using dimentionality reduction\n",
    "k : number of clusters\n",
    "labels : documents labels\n",
    "pred : list of clustering predicted clusters \n",
    "\n",
    "''';"
   ]
  },
  {
   "cell_type": "code",
   "execution_count": 15,
   "id": "d077f629-0752-4bc5-a409-beb7a156aa8e",
   "metadata": {},
   "outputs": [
    {
     "ename": "ImportError",
     "evalue": "cannot import name 'UMAP' from 'umap' (C:\\Users\\ABIR°S ELITEBOOK\\AppData\\Roaming\\Python\\Python311\\site-packages\\umap\\__init__.py)",
     "output_type": "error",
     "traceback": [
      "\u001b[1;31m---------------------------------------------------------------------------\u001b[0m",
      "\u001b[1;31mImportError\u001b[0m                               Traceback (most recent call last)",
      "Cell \u001b[1;32mIn[15], line 1\u001b[0m\n\u001b[1;32m----> 1\u001b[0m \u001b[38;5;28;01mfrom\u001b[39;00m \u001b[38;5;21;01mumap\u001b[39;00m \u001b[38;5;28;01mimport\u001b[39;00m UMAP\n\u001b[0;32m      2\u001b[0m \u001b[38;5;28;01mimport\u001b[39;00m \u001b[38;5;21;01mnumpy\u001b[39;00m \u001b[38;5;28;01mas\u001b[39;00m \u001b[38;5;21;01mnp\u001b[39;00m\n\u001b[0;32m      4\u001b[0m \u001b[38;5;28;01mdef\u001b[39;00m \u001b[38;5;21mdim_red\u001b[39m(mat, p, method):\n",
      "\u001b[1;31mImportError\u001b[0m: cannot import name 'UMAP' from 'umap' (C:\\Users\\ABIR°S ELITEBOOK\\AppData\\Roaming\\Python\\Python311\\site-packages\\umap\\__init__.py)"
     ]
    }
   ],
   "source": [
    "from umap import UMAP\n",
    "import numpy as np\n",
    "\n",
    "def dim_red(mat, p, method):\n",
    "    '''\n",
    "    Perform dimensionality reduction using UMAP\n",
    "\n",
    "    Input:\n",
    "    -----\n",
    "        mat : NxM list \n",
    "            Embeddings matrix (N samples, M dimensions)\n",
    "        p : number of dimensions to keep \n",
    "        method : str\n",
    "            Method name, should be 'UMAP'\n",
    "    Output:\n",
    "    ------\n",
    "        red_mat : NxP list such that p << m\n",
    "            Reduced matrix using UMAP\n",
    "    '''\n",
    "    if method == 'UMAP':\n",
    "        # Perform UMAP using umap-learn library\n",
    "        umap_model = UMAP(n_components=p)\n",
    "        red_mat = umap_model.fit_transform(mat)\n",
    "        \n",
    "    else:\n",
    "        raise Exception(\"Please select 'UMAP' as the method.\")\n",
    "    \n",
    "    return red_mat"
   ]
  },
  {
   "cell_type": "code",
   "execution_count": null,
   "id": "e77a0f00",
   "metadata": {},
   "outputs": [],
   "source": [
    "def dim_red(mat, p):\n",
    "    '''\n",
    "    Perform dimensionality reduction\n",
    "\n",
    "    Input:\n",
    "    -----\n",
    "        mat : NxM list \n",
    "        p : number of dimensions to keep \n",
    "    Output:\n",
    "    ------\n",
    "        red_mat : NxP list such that p<<m\n",
    "    '''\n",
    "    \n",
    "    red_mat = mat[:,:p]\n",
    "    \n",
    "    return red_mat"
   ]
  },
  {
   "cell_type": "code",
   "execution_count": null,
   "id": "9f2ae938",
   "metadata": {},
   "outputs": [],
   "source": [
    "def clust(mat, k):\n",
    "    '''\n",
    "    Perform clustering\n",
    "\n",
    "    Input:\n",
    "    -----\n",
    "        mat : input list \n",
    "        k : number of cluster\n",
    "    Output:\n",
    "    ------\n",
    "        pred : list of predicted labels\n",
    "    '''\n",
    "    \n",
    "    pred = np.random.randint(k, size=len(corpus))\n",
    "    \n",
    "    return pred"
   ]
  },
  {
   "cell_type": "code",
   "execution_count": 5,
   "id": "a7ca9d2f",
   "metadata": {},
   "outputs": [
    {
     "data": {
      "application/vnd.jupyter.widget-view+json": {
       "model_id": "4ce1acf5f591404882f86ab5f998c983",
       "version_major": 2,
       "version_minor": 0
      },
      "text/plain": [
       ".gitattributes:   0%|          | 0.00/690 [00:00<?, ?B/s]"
      ]
     },
     "metadata": {},
     "output_type": "display_data"
    },
    {
     "data": {
      "application/vnd.jupyter.widget-view+json": {
       "model_id": "682f80333403452d84244789893c0aa4",
       "version_major": 2,
       "version_minor": 0
      },
      "text/plain": [
       "1_Pooling/config.json:   0%|          | 0.00/190 [00:00<?, ?B/s]"
      ]
     },
     "metadata": {},
     "output_type": "display_data"
    },
    {
     "data": {
      "application/vnd.jupyter.widget-view+json": {
       "model_id": "762657c7f50644a1b61c17f28038a15c",
       "version_major": 2,
       "version_minor": 0
      },
      "text/plain": [
       "README.md:   0%|          | 0.00/3.69k [00:00<?, ?B/s]"
      ]
     },
     "metadata": {},
     "output_type": "display_data"
    },
    {
     "data": {
      "application/vnd.jupyter.widget-view+json": {
       "model_id": "5bdab1fb5d094b29aba344bf3adc29a8",
       "version_major": 2,
       "version_minor": 0
      },
      "text/plain": [
       "config.json:   0%|          | 0.00/629 [00:00<?, ?B/s]"
      ]
     },
     "metadata": {},
     "output_type": "display_data"
    },
    {
     "data": {
      "application/vnd.jupyter.widget-view+json": {
       "model_id": "ca18e93dbc514c20ae5f1c1350780933",
       "version_major": 2,
       "version_minor": 0
      },
      "text/plain": [
       "config_sentence_transformers.json:   0%|          | 0.00/122 [00:00<?, ?B/s]"
      ]
     },
     "metadata": {},
     "output_type": "display_data"
    },
    {
     "data": {
      "application/vnd.jupyter.widget-view+json": {
       "model_id": "4bf3700129b3432e9cecad622241d288",
       "version_major": 2,
       "version_minor": 0
      },
      "text/plain": [
       "pytorch_model.bin:   0%|          | 0.00/90.9M [00:00<?, ?B/s]"
      ]
     },
     "metadata": {},
     "output_type": "display_data"
    },
    {
     "data": {
      "application/vnd.jupyter.widget-view+json": {
       "model_id": "bb1c3ea728fe42c6a935338ea0f18e5d",
       "version_major": 2,
       "version_minor": 0
      },
      "text/plain": [
       "sentence_bert_config.json:   0%|          | 0.00/53.0 [00:00<?, ?B/s]"
      ]
     },
     "metadata": {},
     "output_type": "display_data"
    },
    {
     "data": {
      "application/vnd.jupyter.widget-view+json": {
       "model_id": "9820a48cda4746768791e101d3f9be42",
       "version_major": 2,
       "version_minor": 0
      },
      "text/plain": [
       "special_tokens_map.json:   0%|          | 0.00/112 [00:00<?, ?B/s]"
      ]
     },
     "metadata": {},
     "output_type": "display_data"
    },
    {
     "data": {
      "application/vnd.jupyter.widget-view+json": {
       "model_id": "9056453aa42946408512cb6a71e98eca",
       "version_major": 2,
       "version_minor": 0
      },
      "text/plain": [
       "tokenizer.json:   0%|          | 0.00/466k [00:00<?, ?B/s]"
      ]
     },
     "metadata": {},
     "output_type": "display_data"
    },
    {
     "data": {
      "application/vnd.jupyter.widget-view+json": {
       "model_id": "259e120d9b514104829fa07b09a964c8",
       "version_major": 2,
       "version_minor": 0
      },
      "text/plain": [
       "tokenizer_config.json:   0%|          | 0.00/314 [00:00<?, ?B/s]"
      ]
     },
     "metadata": {},
     "output_type": "display_data"
    },
    {
     "data": {
      "application/vnd.jupyter.widget-view+json": {
       "model_id": "1e644386c212420788123e6b49b5c4e4",
       "version_major": 2,
       "version_minor": 0
      },
      "text/plain": [
       "vocab.txt:   0%|          | 0.00/232k [00:00<?, ?B/s]"
      ]
     },
     "metadata": {},
     "output_type": "display_data"
    },
    {
     "data": {
      "application/vnd.jupyter.widget-view+json": {
       "model_id": "ec20a18492c045d6bc75aab8d00c5ede",
       "version_major": 2,
       "version_minor": 0
      },
      "text/plain": [
       "modules.json:   0%|          | 0.00/229 [00:00<?, ?B/s]"
      ]
     },
     "metadata": {},
     "output_type": "display_data"
    },
    {
     "ename": "NameError",
     "evalue": "name 'dim_red' is not defined",
     "output_type": "error",
     "traceback": [
      "\u001b[1;31m---------------------------------------------------------------------------\u001b[0m",
      "\u001b[1;31mNameError\u001b[0m                                 Traceback (most recent call last)",
      "Cell \u001b[1;32mIn[5], line 12\u001b[0m\n\u001b[0;32m      9\u001b[0m embeddings \u001b[38;5;241m=\u001b[39m model\u001b[38;5;241m.\u001b[39mencode(corpus)\n\u001b[0;32m     11\u001b[0m \u001b[38;5;66;03m# perform dimentionality reduction\u001b[39;00m\n\u001b[1;32m---> 12\u001b[0m red_emb \u001b[38;5;241m=\u001b[39m \u001b[43mdim_red\u001b[49m(embeddings, \u001b[38;5;241m20\u001b[39m)\n\u001b[0;32m     14\u001b[0m \u001b[38;5;66;03m# perform clustering\u001b[39;00m\n\u001b[0;32m     15\u001b[0m pred \u001b[38;5;241m=\u001b[39m clust(red_emb, k)\n",
      "\u001b[1;31mNameError\u001b[0m: name 'dim_red' is not defined"
     ]
    }
   ],
   "source": [
    "# import data\n",
    "ng20 = fetch_20newsgroups(subset='test')\n",
    "corpus = ng20.data[:2000]\n",
    "labels = ng20.target[:2000]\n",
    "k = len(set(labels))\n",
    "\n",
    "# embedding\n",
    "model = SentenceTransformer('paraphrase-MiniLM-L6-v2')\n",
    "embeddings = model.encode(corpus)\n",
    "\n",
    "# perform dimentionality reduction\n",
    "red_emb = dim_red(embeddings, 20)\n",
    "\n",
    "# perform clustering\n",
    "pred = clust(red_emb, k)\n",
    "\n",
    "# evaluate clustering results\n",
    "nmi_score = normalized_mutual_info_score(pred,labels)\n",
    "ari_score = adjusted_rand_score(pred,labels)\n",
    "\n",
    "print(f'NMI: {nmi_score:.2f} \\nARI: {ari_score:.2f}')\n"
   ]
  },
  {
   "cell_type": "code",
   "execution_count": 7,
   "id": "f4194a89-2c3c-4fd8-bb2e-e2531f66101e",
   "metadata": {},
   "outputs": [
    {
     "name": "stdout",
     "output_type": "stream",
     "text": [
      "ACP - NMI: 0.03, ARI: 0.00\n"
     ]
    }
   ],
   "source": [
    "from sklearn.decomposition import PCA\n",
    "from sklearn.datasets import fetch_20newsgroups\n",
    "from sklearn.metrics.cluster import normalized_mutual_info_score, adjusted_rand_score\n",
    "from sentence_transformers import SentenceTransformer\n",
    "import numpy as np\n",
    "\n",
    "# Chargement des données\n",
    "ng20 = fetch_20newsgroups(subset='test')\n",
    "corpus = ng20.data[:2000]\n",
    "labels = ng20.target[:2000]\n",
    "\n",
    "# Embedding\n",
    "model = SentenceTransformer('paraphrase-MiniLM-L6-v2')\n",
    "embeddings = model.encode(corpus)\n",
    "\n",
    "# ACP\n",
    "def acp_approach(embeddings, num_dimensions):\n",
    "    pca = PCA(n_components=num_dimensions)\n",
    "    red_emb = pca.fit_transform(embeddings)\n",
    "    return red_emb\n",
    "\n",
    "# Clustering\n",
    "def perform_clustering(mat, k):\n",
    "    pred = np.random.randint(k, size=len(corpus))\n",
    "    return pred\n",
    "\n",
    "# Utilisation de l'approche ACP\n",
    "num_dimensions_acp = 20\n",
    "red_emb_acp = acp_approach(embeddings, num_dimensions_acp)\n",
    "\n",
    "# Clustering\n",
    "pred_acp = perform_clustering(red_emb_acp, len(set(labels)))\n",
    "\n",
    "# Évaluation des résultats\n",
    "nmi_score_acp = normalized_mutual_info_score(pred_acp, labels)\n",
    "ari_score_acp = adjusted_rand_score(pred_acp, labels)\n",
    "\n",
    "# Affichage des résultats\n",
    "print(f'ACP - NMI: {nmi_score_acp:.2f}, ARI: {ari_score_acp:.2f}')"
   ]
  },
  {
   "cell_type": "code",
   "execution_count": 1,
   "id": "84969362-b821-4113-9153-24463ab7d105",
   "metadata": {},
   "outputs": [
    {
     "name": "stderr",
     "output_type": "stream",
     "text": [
      "C:\\Users\\ABIR°S ELITEBOOK\\AppData\\Roaming\\Python\\Python311\\site-packages\\umap\\distances.py:1053: NumbaDeprecationWarning: \u001b[1mThe 'nopython' keyword argument was not supplied to the 'numba.jit' decorator. The implicit default value for this argument is currently False, but it will be changed to True in Numba 0.59.0. See https://numba.readthedocs.io/en/stable/reference/deprecation.html#deprecation-of-object-mode-fall-back-behaviour-when-using-jit for details.\u001b[0m\n",
      "  @numba.jit()\n",
      "C:\\Users\\ABIR°S ELITEBOOK\\AppData\\Roaming\\Python\\Python311\\site-packages\\umap\\distances.py:1061: NumbaDeprecationWarning: \u001b[1mThe 'nopython' keyword argument was not supplied to the 'numba.jit' decorator. The implicit default value for this argument is currently False, but it will be changed to True in Numba 0.59.0. See https://numba.readthedocs.io/en/stable/reference/deprecation.html#deprecation-of-object-mode-fall-back-behaviour-when-using-jit for details.\u001b[0m\n",
      "  @numba.jit()\n",
      "C:\\Users\\ABIR°S ELITEBOOK\\AppData\\Roaming\\Python\\Python311\\site-packages\\umap\\distances.py:1076: NumbaDeprecationWarning: \u001b[1mThe 'nopython' keyword argument was not supplied to the 'numba.jit' decorator. The implicit default value for this argument is currently False, but it will be changed to True in Numba 0.59.0. See https://numba.readthedocs.io/en/stable/reference/deprecation.html#deprecation-of-object-mode-fall-back-behaviour-when-using-jit for details.\u001b[0m\n",
      "  @numba.jit()\n",
      "C:\\Users\\ABIR°S ELITEBOOK\\AppData\\Roaming\\Python\\Python311\\site-packages\\umap\\umap_.py:646: NumbaDeprecationWarning: \u001b[1mThe 'nopython' keyword argument was not supplied to the 'numba.jit' decorator. The implicit default value for this argument is currently False, but it will be changed to True in Numba 0.59.0. See https://numba.readthedocs.io/en/stable/reference/deprecation.html#deprecation-of-object-mode-fall-back-behaviour-when-using-jit for details.\u001b[0m\n",
      "  @numba.jit()\n"
     ]
    },
    {
     "name": "stdout",
     "output_type": "stream",
     "text": [
      "WARNING:tensorflow:From C:\\Users\\ABIR°S ELITEBOOK\\AppData\\Roaming\\Python\\Python311\\site-packages\\keras\\src\\losses.py:2976: The name tf.losses.sparse_softmax_cross_entropy is deprecated. Please use tf.compat.v1.losses.sparse_softmax_cross_entropy instead.\n",
      "\n"
     ]
    },
    {
     "ename": "NameError",
     "evalue": "name '_name_' is not defined",
     "output_type": "error",
     "traceback": [
      "\u001b[1;31m---------------------------------------------------------------------------\u001b[0m",
      "\u001b[1;31mNameError\u001b[0m                                 Traceback (most recent call last)",
      "Cell \u001b[1;32mIn[1], line 29\u001b[0m\n\u001b[0;32m     25\u001b[0m     nmi_score_umap, ari_score_umap \u001b[38;5;241m=\u001b[39m evaluate_clustering(pred_umap, labels)\n\u001b[0;32m     27\u001b[0m     \u001b[38;5;28mprint\u001b[39m(\u001b[38;5;124mf\u001b[39m\u001b[38;5;124m'\u001b[39m\u001b[38;5;124mUMAP - NMI: \u001b[39m\u001b[38;5;132;01m{\u001b[39;00mnmi_score_umap\u001b[38;5;132;01m:\u001b[39;00m\u001b[38;5;124m.2f\u001b[39m\u001b[38;5;132;01m}\u001b[39;00m\u001b[38;5;124m, ARI: \u001b[39m\u001b[38;5;132;01m{\u001b[39;00mari_score_umap\u001b[38;5;132;01m:\u001b[39;00m\u001b[38;5;124m.2f\u001b[39m\u001b[38;5;132;01m}\u001b[39;00m\u001b[38;5;124m'\u001b[39m)\n\u001b[1;32m---> 29\u001b[0m \u001b[38;5;28;01mif\u001b[39;00m \u001b[43m_name_\u001b[49m \u001b[38;5;241m==\u001b[39m \u001b[38;5;124m\"\u001b[39m\u001b[38;5;124m_main_\u001b[39m\u001b[38;5;124m\"\u001b[39m:\n\u001b[0;32m     30\u001b[0m     main()\n",
      "\u001b[1;31mNameError\u001b[0m: name '_name_' is not defined"
     ]
    }
   ],
   "source": [
    "from umap import UMAP\n",
    "from sklearn.datasets import fetch_20newsgroups\n",
    "from sklearn.metrics.cluster import normalized_mutual_info_score, adjusted_rand_score\n",
    "from sentence_transformers import SentenceTransformer\n",
    "import numpy as np\n",
    "\n",
    "def umap_approach(embeddings, num_dimensions):\n",
    "    umap_model = UMAP(n_components=num_dimensions)\n",
    "    red_emb = umap_model.fit_transform(embeddings)\n",
    "    return red_emb\n",
    "\n",
    "def main():\n",
    "    ng20 = fetch_20newsgroups(subset='test')\n",
    "    corpus = ng20.data[:2000]\n",
    "    labels = ng20.target[:2000]\n",
    "\n",
    "    model = SentenceTransformer('paraphrase-MiniLM-L6-v2')\n",
    "    embeddings = model.encode(corpus)\n",
    "\n",
    "    num_dimensions_umap = 20\n",
    "    red_emb_umap = umap_approach(embeddings, num_dimensions_umap)\n",
    "\n",
    "    pred_umap = perform_clustering(red_emb_umap, len(set(labels)))\n",
    "\n",
    "    nmi_score_umap, ari_score_umap = evaluate_clustering(pred_umap, labels)\n",
    "\n",
    "    print(f'UMAP - NMI: {nmi_score_umap:.2f}, ARI: {ari_score_umap:.2f}')\n",
    "\n",
    "if _name_ == \"_main_\":\n",
    "    main()"
   ]
  },
  {
   "cell_type": "code",
   "execution_count": 10,
   "id": "12af44cf-d455-45d9-a292-380db8ae9ba7",
   "metadata": {},
   "outputs": [
    {
     "ename": "SyntaxError",
     "evalue": "invalid syntax (529843098.py, line 1)",
     "output_type": "error",
     "traceback": [
      "\u001b[1;36m  Cell \u001b[1;32mIn[10], line 1\u001b[1;36m\u001b[0m\n\u001b[1;33m    from umap-learn import UMAP\u001b[0m\n\u001b[1;37m             ^\u001b[0m\n\u001b[1;31mSyntaxError\u001b[0m\u001b[1;31m:\u001b[0m invalid syntax\n"
     ]
    }
   ],
   "source": [
    "from umap import UMAP\n",
    "from sklearn.datasets import fetch_20newsgroups\n",
    "from sklearn.cluster import KMeans\n",
    "from sklearn.metrics.cluster import normalized_mutual_info_score, adjusted_rand_score\n",
    "\n",
    "from sentence_transformers import SentenceTransformer\n",
    "import numpy as np\n",
    "\n",
    "def perform_clustering(embeddings, num_clusters):\n",
    "    kmeans_model = KMeans(n_clusters=num_clusters, random_state=42)\n",
    "    pred = kmeans_model.fit_predict(embeddings)\n",
    "    return pred\n",
    "\n",
    "def evaluate_clustering(pred, true_labels):\n",
    "    nmi_score = normalized_mutual_info_score(true_labels, pred)\n",
    "    ari_score = adjusted_rand_score(true_labels, pred)\n",
    "    return nmi_score, ari_score\n",
    "\n",
    "def umap_approach(embeddings, num_dimensions):\n",
    "    umap_model = UMAP(n_components=num_dimensions)\n",
    "    red_emb = umap_model.fit_transform(embeddings)\n",
    "    return red_emb\n",
    "\n",
    "def main():\n",
    "    ng20 = fetch_20newsgroups(subset='test')\n",
    "    corpus = ng20.data[:2000]\n",
    "    labels = ng20.target[:2000]\n",
    "\n",
    "    model = SentenceTransformer('paraphrase-MiniLM-L6-v2')\n",
    "    embeddings = model.encode(corpus)\n",
    "\n",
    "    num_dimensions_umap = 20\n",
    "    red_emb_umap = umap_approach(embeddings, num_dimensions_umap)\n",
    "\n",
    "    pred_umap = perform_clustering(red_emb_umap, len(set(labels)))\n",
    "\n",
    "    nmi_score_umap, ari_score_umap = evaluate_clustering(pred_umap, labels)\n",
    "\n",
    "    print(f'UMAP - NMI: {nmi_score_umap:.2f}, ARI: {ari_score_umap:.2f}')\n",
    "\n",
    "if __name__ == \"__main__\":\n",
    "    main()"
   ]
  },
  {
   "cell_type": "code",
   "execution_count": 3,
   "id": "da0c33f1-4f72-4eb2-a383-9c40cd8bfb6d",
   "metadata": {},
   "outputs": [
    {
     "name": "stderr",
     "output_type": "stream",
     "text": [
      "C:\\Users\\ABIR°S ELITEBOOK\\AppData\\Roaming\\Python\\Python311\\site-packages\\sklearn\\cluster\\_kmeans.py:1416: FutureWarning: The default value of `n_init` will change from 10 to 'auto' in 1.4. Set the value of `n_init` explicitly to suppress the warning\n",
      "  super()._check_params_vs_input(X, default_n_init=10)\n"
     ]
    },
    {
     "name": "stdout",
     "output_type": "stream",
     "text": [
      "UMAP - NMI: 0.48, ARI: 0.30\n"
     ]
    }
   ],
   "source": [
    "from umap.umap_ import UMAP\n",
    "from sklearn.cluster import KMeans\n",
    "from sklearn.datasets import fetch_20newsgroups\n",
    "from sklearn.metrics.cluster import normalized_mutual_info_score, adjusted_rand_score\n",
    "from sentence_transformers import SentenceTransformer\n",
    "\n",
    "# Chargement des données\n",
    "ng20 = fetch_20newsgroups(subset='test')\n",
    "corpus = ng20.data[:2000]\n",
    "labels = ng20.target[:2000]\n",
    "\n",
    "# Embedding\n",
    "model = SentenceTransformer('paraphrase-MiniLM-L6-v2')\n",
    "embeddings = model.encode(corpus)\n",
    "\n",
    "# UMAP\n",
    "def umap_approach(embeddings, num_dimensions):\n",
    "    umap_model = UMAP(n_components=num_dimensions)\n",
    "    red_emb = umap_model.fit_transform(embeddings)\n",
    "    return red_emb\n",
    "\n",
    "# Clustering\n",
    "def perform_clustering(embeddings, num_clusters):\n",
    "    kmeans_model = KMeans(n_clusters=num_clusters, random_state=42)\n",
    "    pred = kmeans_model.fit_predict(embeddings)\n",
    "    return pred\n",
    "\n",
    "# Utilisation de l'approche UMAP\n",
    "num_dimensions_umap = 20\n",
    "red_emb_umap = umap_approach(embeddings, num_dimensions_umap)\n",
    "\n",
    "# Clustering\n",
    "pred_umap = perform_clustering(red_emb_umap, len(set(labels)))\n",
    "\n",
    "# Évaluation des résultats\n",
    "nmi_score_umap = normalized_mutual_info_score(labels, pred_umap)\n",
    "ari_score_umap = adjusted_rand_score(labels, pred_umap)\n",
    "\n",
    "# Affichage des résultats\n",
    "print(f'UMAP - NMI: {nmi_score_umap:.2f}, ARI: {ari_score_umap:.2f}')\n",
    "\n"
   ]
  },
  {
   "cell_type": "code",
   "execution_count": null,
   "id": "dd2f997f-214d-4354-be5b-aa9057c48543",
   "metadata": {},
   "outputs": [],
   "source": []
  }
 ],
 "metadata": {
  "kernelspec": {
   "display_name": "Python 3 (ipykernel)",
   "language": "python",
   "name": "python3"
  },
  "language_info": {
   "codemirror_mode": {
    "name": "ipython",
    "version": 3
   },
   "file_extension": ".py",
   "mimetype": "text/x-python",
   "name": "python",
   "nbconvert_exporter": "python",
   "pygments_lexer": "ipython3",
   "version": "3.11.4"
  }
 },
 "nbformat": 4,
 "nbformat_minor": 5
}
